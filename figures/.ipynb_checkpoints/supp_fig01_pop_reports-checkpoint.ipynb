{
 "cells": [
  {
   "cell_type": "markdown",
   "id": "b6738fcf-c9f1-4edf-9252-52817341c967",
   "metadata": {},
   "source": [
    "# Supplementary Figure 1: Population and reports\n",
    "\n",
    "The population density of Australia from the 2016 Census (top) and the number of reports in the SSA from Jan 2010 - Apr 2016 (bottom). Note the similarities between the two."
   ]
  }
 ],
 "metadata": {
  "kernelspec": {
   "display_name": "R",
   "language": "R",
   "name": "ir"
  },
  "language_info": {
   "codemirror_mode": "r",
   "file_extension": ".r",
   "mimetype": "text/x-r-source",
   "name": "R",
   "pygments_lexer": "r",
   "version": "4.2.2"
  }
 },
 "nbformat": 4,
 "nbformat_minor": 5
}
